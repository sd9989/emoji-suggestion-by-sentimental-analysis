{
 "cells": [
  {
   "cell_type": "code",
   "execution_count": 37,
   "metadata": {},
   "outputs": [
    {
     "name": "stdout",
     "output_type": "stream",
     "text": [
      "\n",
      "Statement 1 :\n",
      "Sentence was rated as  0.0 % Negative\n",
      "Sentence was rated as  54.300000000000004 % Neutral\n",
      "Sentence was rated as  45.7 % Positive\n",
      "We have the best insfrastructure here. 😊\n",
      "\n",
      "Statement 2 :\n",
      "Sentence was rated as  0.0 % Negative\n",
      "Sentence was rated as  100.0 % Neutral\n",
      "Sentence was rated as  0.0 % Positive\n",
      "Classes are going on  😐\n",
      "\n",
      "Statement 3 :\n",
      "Sentence was rated as  32.5 % Negative\n",
      "Sentence was rated as  67.5 % Neutral\n",
      "Sentence was rated as  0.0 % Positive\n",
      "The university is closed so we are sad 😔\n",
      "\n"
     ]
    }
   ],
   "source": [
    "import nltk\n",
    "import emoji\n",
    "from nltk.sentiment.vader import SentimentIntensityAnalyzer \n",
    "\n",
    "def sentiment_analyser(sentence): \n",
    "\n",
    " \n",
    "    obj = SentimentIntensityAnalyzer() \n",
    "\n",
    " \n",
    "    dic = obj.polarity_scores(sentence) \n",
    "\n",
    "     \n",
    "    print(\"Sentence was rated as \", dic['neg']*100, \"% Negative\") \n",
    "    print(\"Sentence was rated as \", dic['neu']*100, \"% Neutral\") \n",
    "    print(\"Sentence was rated as \", dic['pos']*100, \"% Positive\") \n",
    "\n",
    " \n",
    "    if dic['compound'] >= 0.05 : \n",
    "        print(sentence,\"\\U0001F60A\")\n",
    "        \n",
    "        \n",
    "    elif dic['compound'] <= - 0.05 : \n",
    "        print(sentence,\"\\U0001F614\") \n",
    "        print(\"\")\n",
    "\n",
    "    else : \n",
    "        print(sentence,\" \\U0001F610\")\n",
    "        \n",
    "\n",
    "\n",
    "\n",
    " \n",
    " \n",
    "\n",
    "print(\"\\nStatement 1 :\") \n",
    "statement = \"We have the best insfrastructure here.\" \n",
    "sentiment_analyser(statement) \n",
    "\n",
    "print(\"\\nStatement 2 :\") \n",
    "statement = \"Classes are going on\"\n",
    "sentiment_analyser(statement) \n",
    "\n",
    "print(\"\\nStatement 3 :\") \n",
    "statement = \"The university is closed so we are sad\"\n",
    "sentiment_analyser(statement) \n"
   ]
  },
  {
   "cell_type": "code",
   "execution_count": null,
   "metadata": {},
   "outputs": [],
   "source": []
  },
  {
   "cell_type": "code",
   "execution_count": null,
   "metadata": {},
   "outputs": [],
   "source": []
  }
 ],
 "metadata": {
  "kernelspec": {
   "display_name": "Python 3",
   "language": "python",
   "name": "python3"
  },
  "language_info": {
   "codemirror_mode": {
    "name": "ipython",
    "version": 3
   },
   "file_extension": ".py",
   "mimetype": "text/x-python",
   "name": "python",
   "nbconvert_exporter": "python",
   "pygments_lexer": "ipython3",
   "version": "3.7.1"
  }
 },
 "nbformat": 4,
 "nbformat_minor": 2
}
